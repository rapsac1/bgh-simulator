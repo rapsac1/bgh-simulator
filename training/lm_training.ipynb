{
 "cells": [
  {
   "cell_type": "code",
   "execution_count": 1,
   "metadata": {},
   "outputs": [],
   "source": [
    "import pandas as pd\n",
    "from fastai import *\n",
    "from fastai.text import *\n",
    "from pathlib import Path\n",
    "\n",
    "MODEL_P = Path('../lawstats/model/')\n",
    "DATA_P = Path('../lawstats/data/')"
   ]
  },
  {
   "cell_type": "code",
   "execution_count": 2,
   "metadata": {},
   "outputs": [],
   "source": [
    "corpus_df = pd.read_csv(DATA_P / 'corpus.tsv', delimiter='\\t', header=None, names=['DecisionID', 'DecisionText'])\n",
    "bgh_df = pd.read_csv(DATA_P / 'bgh_data.csv')"
   ]
  },
  {
   "cell_type": "code",
   "execution_count": 5,
   "metadata": {
    "scrolled": true
   },
   "outputs": [
    {
     "data": {
      "text/html": [
       "<div>\n",
       "<style scoped>\n",
       "    .dataframe tbody tr th:only-of-type {\n",
       "        vertical-align: middle;\n",
       "    }\n",
       "\n",
       "    .dataframe tbody tr th {\n",
       "        vertical-align: top;\n",
       "    }\n",
       "\n",
       "    .dataframe thead th {\n",
       "        text-align: right;\n",
       "    }\n",
       "</style>\n",
       "<table border=\"1\" class=\"dataframe\">\n",
       "  <thead>\n",
       "    <tr style=\"text-align: right;\">\n",
       "      <th></th>\n",
       "      <th>DecisionID</th>\n",
       "      <th>DecisionText</th>\n",
       "      <th>RevisionOutcome</th>\n",
       "    </tr>\n",
       "  </thead>\n",
       "  <tbody>\n",
       "    <tr>\n",
       "      <th>0</th>\n",
       "      <td>verdict41720</td>\n",
       "      <td>Die Beschwerde gegen die Nichtzulassung der ...</td>\n",
       "      <td>-1</td>\n",
       "    </tr>\n",
       "    <tr>\n",
       "      <th>1</th>\n",
       "      <td>verdict41716</td>\n",
       "      <td>Die Rechtsbeschwerde gegen den Beschluss der...</td>\n",
       "      <td>-1</td>\n",
       "    </tr>\n",
       "    <tr>\n",
       "      <th>2</th>\n",
       "      <td>verdict41717</td>\n",
       "      <td>Die Anhörungsrüge gegen den Senatsbeschluss ...</td>\n",
       "      <td>-1</td>\n",
       "    </tr>\n",
       "    <tr>\n",
       "      <th>3</th>\n",
       "      <td>verdict41710</td>\n",
       "      <td>1_ Auf die Revision des Angeklagten wird d...</td>\n",
       "      <td>1</td>\n",
       "    </tr>\n",
       "    <tr>\n",
       "      <th>4</th>\n",
       "      <td>verdict41711</td>\n",
       "      <td>Die Anhörungsrüge gegen den Senatsbeschluss ...</td>\n",
       "      <td>-1</td>\n",
       "    </tr>\n",
       "  </tbody>\n",
       "</table>\n",
       "</div>"
      ],
      "text/plain": [
       "     DecisionID                                       DecisionText  \\\n",
       "0  verdict41720    Die Beschwerde gegen die Nichtzulassung der ...   \n",
       "1  verdict41716    Die Rechtsbeschwerde gegen den Beschluss der...   \n",
       "2  verdict41717    Die Anhörungsrüge gegen den Senatsbeschluss ...   \n",
       "3  verdict41710      1_ Auf die Revision des Angeklagten wird d...   \n",
       "4  verdict41711    Die Anhörungsrüge gegen den Senatsbeschluss ...   \n",
       "\n",
       "   RevisionOutcome  \n",
       "0               -1  \n",
       "1               -1  \n",
       "2               -1  \n",
       "3                1  \n",
       "4               -1  "
      ]
     },
     "execution_count": 5,
     "metadata": {},
     "output_type": "execute_result"
    }
   ],
   "source": [
    "merged_data = pd.merge(corpus_df, bgh_df[['DecisionID', 'RevisionOutcome']], on='DecisionID')\n",
    "merged_data.head()"
   ]
  },
  {
   "cell_type": "markdown",
   "metadata": {},
   "source": [
    "**Language Model**\n",
    "\n",
    "First a word level Language Model is trained, so that the word embeddings can be pretrained to be later used with the language classifier.\n",
    "\n",
    "There is probably an easy improvement to be made with using a german wikitext language model instead of random weights."
   ]
  },
  {
   "cell_type": "code",
   "execution_count": 6,
   "metadata": {},
   "outputs": [],
   "source": [
    "data_lm = (TextList.from_df(merged_data[['DecisionText']], MODEL_P)\n",
    "           .split_by_rand_pct(0.1)\n",
    "           .label_for_lm().databunch())"
   ]
  },
  {
   "cell_type": "code",
   "execution_count": 38,
   "metadata": {},
   "outputs": [],
   "source": [
    "data_lm.save('lm_databunch')"
   ]
  },
  {
   "cell_type": "code",
   "execution_count": 7,
   "metadata": {},
   "outputs": [
    {
     "data": {
      "text/html": [
       "<table border=\"1\" class=\"dataframe\">\n",
       "  <thead>\n",
       "    <tr style=\"text-align: right;\">\n",
       "      <th>idx</th>\n",
       "      <th>text</th>\n",
       "    </tr>\n",
       "  </thead>\n",
       "  <tbody>\n",
       "    <tr>\n",
       "      <td>0</td>\n",
       "      <td>wird auf xxmaj kosten der xxmaj schuldnerin als unzulässig verworfen . xxbos xxmaj die xxmaj anhörungsrüge gegen den xxmaj senatsbeschluss vom 23 - 11 - 2006 wird auf xxmaj kosten des xxmaj schuldners zurückgewiesen . xxbos 1 _ xxmaj auf die xxmaj revision des xxmaj angeklagten wird das xxmaj urteil des xxmaj landgerichts xxmaj magdeburg vom 14 - 3 - 2007 i m xxmaj ausspruch über die xxmaj gesamtstrafe mit</td>\n",
       "    </tr>\n",
       "    <tr>\n",
       "      <td>1</td>\n",
       "      <td>beschluss des 3 _ xxmaj senats für xxmaj familiensachen des xxmaj brandenburgischen xxmaj oberlandesgerichts vom 15 - 8 - 2011 wird auf xxmaj kosten des xxmaj antragsgegners verworfen . xxbos xxmaj die xxmaj revision des xxmaj angeklagten gegen das xxmaj urteil des xxmaj landgerichts xxmaj wuppertal vom 5 - 12 - 2002 wird als unbegründet verworfen , da die xxmaj nachprüfung des xxmaj urteils auf xxmaj grund der xxmaj revisionsrechtfertigung</td>\n",
       "    </tr>\n",
       "    <tr>\n",
       "      <td>2</td>\n",
       "      <td>landgerichts xxmaj hannover vom 7 - 6 - 2007 wirksam zurückgenommen ist . xxbos xxmaj die übrigen xxmaj voraussetzungen für die xxmaj anordnung der xxmaj xxunk liegen vor . xxbos xxmaj auf die xxmaj revision der xxmaj kläger wird das xxmaj urteil des 13 _ xxmaj zivilsenats in xxmaj darmstadt des xxmaj oberlandesgerichts xxmaj frankfurt am xxmaj main vom 12 - 6 - 2002 aufgehoben . xxbos \" xxmaj unter</td>\n",
       "    </tr>\n",
       "    <tr>\n",
       "      <td>3</td>\n",
       "      <td>xxmaj revision der xxmaj klägerin wird das xxmaj urteil der 15 _ xxmaj zivilkammer des xxmaj landgerichts xxmaj münchen i vom 17 - 12 - 2003 aufgehoben . xxbos xxmaj die xxmaj revision gegen das xxmaj urteil der 2 _ xxmaj zivilkammer des xxmaj landgerichts xxmaj aurich vom 28 - 5 - 2004 wird auf xxmaj kosten der xxmaj kläger zurückgewiesen . xxbos xxmaj die xxmaj revision des xxmaj angeklagten</td>\n",
       "    </tr>\n",
       "    <tr>\n",
       "      <td>4</td>\n",
       "      <td>- 7 - 2012 b ) i m xxmaj ausspruch über die xxmaj gesamtstrafe und c ) soweit eine xxmaj entscheidung über die xxmaj anordnung der xxmaj unterbringung in einer xxmaj entziehungsanstalt unterblieben ist . xxbos xxmaj die xxmaj beschwerde der xxmaj klägerin gegen die xxmaj nichtzulassung der xxmaj revision in dem xxmaj urteil des 13 _ xxmaj zivilsenats in xxmaj darmstadt des xxmaj oberlandesgerichts xxmaj frankfurt am xxmaj main</td>\n",
       "    </tr>\n",
       "  </tbody>\n",
       "</table>"
      ],
      "text/plain": [
       "<IPython.core.display.HTML object>"
      ]
     },
     "metadata": {},
     "output_type": "display_data"
    }
   ],
   "source": [
    "data_lm.show_batch()"
   ]
  },
  {
   "cell_type": "code",
   "execution_count": 41,
   "metadata": {},
   "outputs": [],
   "source": [
    "class SaveBestModel(Recorder):\n",
    "    def __init__(self, learn,name='best_model'):\n",
    "        super().__init__(learn)\n",
    "        self.name = name\n",
    "        self.best_loss = None\n",
    "        self.best_acc = None\n",
    "        self.save_method = self.save_when_acc\n",
    "        \n",
    "    def save_when_acc(self, metrics):\n",
    "        if metrics:\n",
    "            loss, acc = metrics[0], metrics[1]\n",
    "            if not self.best_acc or acc > self.best_acc:\n",
    "                self.best_acc = acc\n",
    "                self.best_loss = loss\n",
    "                self.learn.save(f'{self.name}')\n",
    "                print(\"Save the best accuracy {:.5f}\".format(self.best_acc))\n",
    "            elif acc == self.best_acc and  loss < self.best_loss:\n",
    "                self.best_loss = loss\n",
    "                self.learn.save(f'{self.name}')\n",
    "                print(\"Accuracy is eq,Save the lower loss {:.5f}\".format(self.best_loss))\n",
    "\n",
    "    def on_epoch_end(self,last_metrics=MetricsList,**kwargs:Any):\n",
    "        self.save_method(last_metrics)"
   ]
  },
  {
   "cell_type": "code",
   "execution_count": 8,
   "metadata": {},
   "outputs": [],
   "source": [
    "learner = language_model_learner(data_lm, arch=AWD_LSTM, pretrained=False, drop_mult=0.3)"
   ]
  },
  {
   "cell_type": "code",
   "execution_count": 9,
   "metadata": {},
   "outputs": [
    {
     "data": {
      "text/html": [],
      "text/plain": [
       "<IPython.core.display.HTML object>"
      ]
     },
     "metadata": {},
     "output_type": "display_data"
    },
    {
     "name": "stdout",
     "output_type": "stream",
     "text": [
      "LR Finder is complete, type {learner_name}.recorder.plot() to see the graph.\n"
     ]
    },
    {
     "data": {
      "image/png": "[encoded data removed]",
      "text/plain": [
       "<Figure size 432x288 with 1 Axes>"
      ]
     },
     "metadata": {
      "needs_background": "light"
     },
     "output_type": "display_data"
    }
   ],
   "source": [
    "#find a suitable learning rate\n",
    "learner.unfreeze()\n",
    "learner.lr_find()\n",
    "learner.recorder.plot()"
   ]
  },
  {
   "cell_type": "code",
   "execution_count": 10,
   "metadata": {},
   "outputs": [
    {
     "data": {
      "text/html": [
       "Total time: 30:35 <p><table border=\"1\" class=\"dataframe\">\n",
       "  <thead>\n",
       "    <tr style=\"text-align: left;\">\n",
       "      <th>epoch</th>\n",
       "      <th>train_loss</th>\n",
       "      <th>valid_loss</th>\n",
       "      <th>accuracy</th>\n",
       "      <th>time</th>\n",
       "    </tr>\n",
       "  </thead>\n",
       "  <tbody>\n",
       "    <tr>\n",
       "      <td>0</td>\n",
       "      <td>2.442637</td>\n",
       "      <td>1.963066</td>\n",
       "      <td>0.614893</td>\n",
       "      <td>03:43</td>\n",
       "    </tr>\n",
       "    <tr>\n",
       "      <td>1</td>\n",
       "      <td>1.797330</td>\n",
       "      <td>1.498584</td>\n",
       "      <td>0.670740</td>\n",
       "      <td>03:49</td>\n",
       "    </tr>\n",
       "    <tr>\n",
       "      <td>2</td>\n",
       "      <td>1.544983</td>\n",
       "      <td>1.365041</td>\n",
       "      <td>0.688535</td>\n",
       "      <td>03:49</td>\n",
       "    </tr>\n",
       "    <tr>\n",
       "      <td>3</td>\n",
       "      <td>1.574180</td>\n",
       "      <td>1.308872</td>\n",
       "      <td>0.696915</td>\n",
       "      <td>03:50</td>\n",
       "    </tr>\n",
       "    <tr>\n",
       "      <td>4</td>\n",
       "      <td>1.360877</td>\n",
       "      <td>1.270674</td>\n",
       "      <td>0.704672</td>\n",
       "      <td>03:50</td>\n",
       "    </tr>\n",
       "    <tr>\n",
       "      <td>5</td>\n",
       "      <td>1.332223</td>\n",
       "      <td>1.246053</td>\n",
       "      <td>0.710807</td>\n",
       "      <td>03:49</td>\n",
       "    </tr>\n",
       "    <tr>\n",
       "      <td>6</td>\n",
       "      <td>1.204823</td>\n",
       "      <td>1.243872</td>\n",
       "      <td>0.713498</td>\n",
       "      <td>03:50</td>\n",
       "    </tr>\n",
       "    <tr>\n",
       "      <td>7</td>\n",
       "      <td>1.026412</td>\n",
       "      <td>1.249295</td>\n",
       "      <td>0.713613</td>\n",
       "      <td>03:50</td>\n",
       "    </tr>\n",
       "  </tbody>\n",
       "</table>"
      ],
      "text/plain": [
       "<IPython.core.display.HTML object>"
      ]
     },
     "metadata": {},
     "output_type": "display_data"
    }
   ],
   "source": [
    "learner.fit_one_cycle(8, 3e-3, moms=(0.8,0.7))"
   ]
  },
  {
   "cell_type": "code",
   "execution_count": 11,
   "metadata": {},
   "outputs": [],
   "source": [
    "learner.save('end_training_model_lm')\n",
    "learner.save_encoder('full_corpus_lm_encoder')\n",
    "learner.export('production_model.pkl')"
   ]
  },
  {
   "cell_type": "code",
   "execution_count": 83,
   "metadata": {},
   "outputs": [
    {
     "data": {
      "text/plain": [
       "'Das Urteil des 3 _ Strafsenats des Oberlandesgerichts München vom 12 - 6 - 2005 , das gemäß § 13 Abs _ 1 bis 3 TKG , einschließlich eines Gesetzes nach § 22 a stpo und nach § 250 a AGBG i m Mai 2007 wegen eines offensichtlichen Schreibversehens i m Rubrum dem Randnummer 27 i m Leitsatz als abgesehen eingestellt wird , wenn das bei der Entscheidung über die Rechtsbeschwerde in dem angefochtenen Beschluss zutreffend gestellt wird . Auf die Gegenvorstellung des'"
      ]
     },
     "execution_count": 83,
     "metadata": {},
     "output_type": "execute_result"
    }
   ],
   "source": [
    "text = learner.predict('Das Urteil', 100, temperature=1.5, min_p=0.001)\n",
    "text = text.replace('xxbos ', '')\n",
    "text"
   ]
  }
 ],
 "metadata": {
  "kernelspec": {
   "display_name": "Python 3",
   "language": "python",
   "name": "python3"
  },
  "language_info": {
   "codemirror_mode": {
    "name": "ipython",
    "version": 3
   },
   "file_extension": ".py",
   "mimetype": "text/x-python",
   "name": "python",
   "nbconvert_exporter": "python",
   "pygments_lexer": "ipython3",
   "version": "3.7.1"
  }
 },
 "nbformat": 4,
 "nbformat_minor": 2
}
